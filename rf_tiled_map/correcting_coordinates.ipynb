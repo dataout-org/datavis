{
 "cells": [
  {
   "cell_type": "markdown",
   "metadata": {},
   "source": [
    "#### This notebook corrects coordinates of the tiled map in the file 'tilemaprf.svg' for better positioning of tiles. The corrected map is in 'tilemaprf_xy.svg'"
   ]
  },
  {
   "cell_type": "code",
   "execution_count": null,
   "metadata": {},
   "outputs": [],
   "source": [
    "import xml.etree.ElementTree as ET"
   ]
  },
  {
   "cell_type": "code",
   "execution_count": null,
   "metadata": {},
   "outputs": [],
   "source": [
    "# loading file\n",
    "tree = ET.parse('tilemaprf.svg')\n",
    "root = tree.getroot()"
   ]
  },
  {
   "cell_type": "code",
   "execution_count": null,
   "metadata": {},
   "outputs": [],
   "source": [
    "svg_prefix = '{http://www.w3.org/2000/svg}'"
   ]
  },
  {
   "cell_type": "code",
   "execution_count": null,
   "metadata": {},
   "outputs": [],
   "source": [
    "# defining groups\n",
    "tiles_group = root.findall(svg_prefix + 'g')[0]\n",
    "names_group = root.findall(svg_prefix + 'g')[1]"
   ]
  },
  {
   "cell_type": "markdown",
   "metadata": {},
   "source": [
    "### Correcting tiles x and y"
   ]
  },
  {
   "cell_type": "code",
   "execution_count": null,
   "metadata": {},
   "outputs": [],
   "source": [
    "# find all rects' coordinates\n",
    "\n",
    "all_x = []\n",
    "all_y = []\n",
    "for rect in tiles_group.findall(svg_prefix + 'rect'):\n",
    "    all_x.append(rect.attrib[\"x\"])\n",
    "    all_y.append(rect.attrib[\"y\"])"
   ]
  },
  {
   "cell_type": "code",
   "execution_count": null,
   "metadata": {},
   "outputs": [],
   "source": [
    "all_x_unique = list(set([int(x) for x in all_x]))\n",
    "all_y_unique = list(set([int(y) for y in all_y]))"
   ]
  },
  {
   "cell_type": "code",
   "execution_count": null,
   "metadata": {},
   "outputs": [],
   "source": [
    "all_x_unique.sort()\n",
    "all_y_unique.sort()"
   ]
  },
  {
   "cell_type": "code",
   "execution_count": null,
   "metadata": {},
   "outputs": [],
   "source": [
    "new_x = list()\n",
    "for i in range(0,max(all_x_unique) + 40,40):\n",
    "    new_x.append(i)"
   ]
  },
  {
   "cell_type": "code",
   "execution_count": null,
   "metadata": {},
   "outputs": [],
   "source": [
    "new_y = list()\n",
    "for i in range(0,max(all_y_unique) + 40,40):\n",
    "    new_y.append(i)"
   ]
  },
  {
   "cell_type": "code",
   "execution_count": null,
   "metadata": {},
   "outputs": [],
   "source": [
    "x_correction = list(zip(all_x_unique,new_x))\n",
    "y_correction = list(zip(all_y_unique,new_y))"
   ]
  },
  {
   "cell_type": "code",
   "execution_count": null,
   "metadata": {},
   "outputs": [],
   "source": [
    "for rect in tiles_group.findall(svg_prefix + 'rect'):\n",
    "    # correcting X\n",
    "    for x_pairs in x_correction:\n",
    "        if x_pairs[0] == int(rect.attrib[\"x\"]):\n",
    "            rect.set(\"x\", str(x_pairs[1]))\n",
    "            \n",
    "    # correcting Y\n",
    "    for y_pairs in y_correction:\n",
    "        if y_pairs[0] == int(rect.attrib[\"y\"]):\n",
    "            rect.set(\"y\", str(y_pairs[1]))"
   ]
  },
  {
   "cell_type": "markdown",
   "metadata": {},
   "source": [
    "### Correcting labels x and y"
   ]
  },
  {
   "cell_type": "code",
   "execution_count": null,
   "metadata": {},
   "outputs": [],
   "source": [
    "for text in names_group.findall(svg_prefix + 'text'):\n",
    "    # changes in names coordinates was +2 for x\n",
    "    \n",
    "    # correcting X\n",
    "    for x_pairs in x_correction:\n",
    "        if x_pairs[0]+2 == int(text.attrib[\"x\"]):\n",
    "            text.set(\"x\", str(x_pairs[1] + 2))"
   ]
  },
  {
   "cell_type": "code",
   "execution_count": null,
   "metadata": {},
   "outputs": [],
   "source": [
    "all_y_labels = []\n",
    "for text in names_group.findall(svg_prefix + 'text'):\n",
    "    all_y_labels.append(int(text.attrib[\"y\"]))"
   ]
  },
  {
   "cell_type": "code",
   "execution_count": null,
   "metadata": {},
   "outputs": [],
   "source": [
    "all_y_labels_unique = list(set(all_y_labels))"
   ]
  },
  {
   "cell_type": "code",
   "execution_count": null,
   "metadata": {},
   "outputs": [],
   "source": [
    "all_y_labels_unique.sort()"
   ]
  },
  {
   "cell_type": "code",
   "execution_count": null,
   "metadata": {},
   "outputs": [],
   "source": [
    "y_labels_corrected = [y for y in range(14,454,40)]"
   ]
  },
  {
   "cell_type": "code",
   "execution_count": null,
   "metadata": {},
   "outputs": [],
   "source": [
    "y_correction_for_labels = list(zip(all_y_labels_unique,y_labels_corrected))"
   ]
  },
  {
   "cell_type": "code",
   "execution_count": null,
   "metadata": {},
   "outputs": [],
   "source": [
    "for text in names_group.findall(svg_prefix + 'text'):\n",
    "\n",
    "    # correcting Y\n",
    "    for y_pairs in y_correction_for_labels:\n",
    "        if y_pairs[0] == int(text.attrib[\"y\"]):\n",
    "            text.set(\"y\", str(y_pairs[1]))"
   ]
  },
  {
   "cell_type": "code",
   "execution_count": null,
   "metadata": {},
   "outputs": [],
   "source": [
    "# exporting the map with corrected coordinates\n",
    "tree.write('tilemaprf_xy.svg',encoding=\"utf-8\",xml_declaration=True)"
   ]
  },
  {
   "cell_type": "markdown",
   "metadata": {},
   "source": [
    "### Change numeric IDs of rect in 'tilemaprf_xy.svg'"
   ]
  },
  {
   "cell_type": "code",
   "execution_count": null,
   "metadata": {},
   "outputs": [],
   "source": [
    "# loading file\n",
    "tree = ET.parse('tilemaprf_xy.svg')\n",
    "root = tree.getroot()"
   ]
  },
  {
   "cell_type": "code",
   "execution_count": null,
   "metadata": {},
   "outputs": [],
   "source": [
    "svg_prefix = '{http://www.w3.org/2000/svg}'"
   ]
  },
  {
   "cell_type": "code",
   "execution_count": null,
   "metadata": {},
   "outputs": [],
   "source": [
    "tiles_group = root.findall(svg_prefix + 'g')[0]"
   ]
  },
  {
   "cell_type": "code",
   "execution_count": null,
   "metadata": {},
   "outputs": [],
   "source": [
    "for rect in tiles_group.findall(svg_prefix + 'rect'):\n",
    "    rect_id = rect.attrib[\"id\"]\n",
    "    # change ID only if it's a tile ID, not other rects\n",
    "    if len(rect_id) < 3:\n",
    "        rect.attrib[\"id\"] = f\"tile_{rect_id}\""
   ]
  },
  {
   "cell_type": "code",
   "execution_count": null,
   "metadata": {},
   "outputs": [],
   "source": [
    "# exporting the map with new rect ids\n",
    "tree.write('tilemaprf_xy.svg',encoding=\"utf-8\",xml_declaration=True)"
   ]
  }
 ],
 "metadata": {
  "kernelspec": {
   "display_name": "Python 3",
   "language": "python",
   "name": "python3"
  },
  "language_info": {
   "codemirror_mode": {
    "name": "ipython",
    "version": 3
   },
   "file_extension": ".py",
   "mimetype": "text/x-python",
   "name": "python",
   "nbconvert_exporter": "python",
   "pygments_lexer": "ipython3",
   "version": "3.6.1"
  }
 },
 "nbformat": 4,
 "nbformat_minor": 2
}
